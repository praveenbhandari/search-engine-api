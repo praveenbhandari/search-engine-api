{
 "cells": [
  {
   "cell_type": "code",
   "execution_count": 6,
   "metadata": {},
   "outputs": [],
   "source": [
    "import sqlite3\n",
    "\n",
    "from datetime import datetime"
   ]
  },
  {
   "cell_type": "code",
   "execution_count": 7,
   "metadata": {},
   "outputs": [],
   "source": [
    "\n",
    "mydb = sqlite3.connect('user.db') \n",
    "c = mydb.cursor() # The database will be saved in the location where your 'py' file is saved\n"
   ]
  },
  {
   "cell_type": "code",
   "execution_count": 8,
   "metadata": {},
   "outputs": [
    {
     "data": {
      "text/plain": [
       "<sqlite3.Cursor at 0x104d2d9c0>"
      ]
     },
     "execution_count": 8,
     "metadata": {},
     "output_type": "execute_result"
    }
   ],
   "source": [
    "c.execute(\"CREATE TABLE IF NOT EXISTS users (user_id INTEGER PRIMARY KEY, name VARCHAR(255),email VARCHAR(255), phone VARCHAR(255),location VARCHAR(255), registered_on DATETIME)\")\n",
    "c.execute(\"CREATE TABLE IF NOT EXISTS queries (id INTEGER PRIMARY KEY, user_id INT, query VARCHAR(255),ip VARCHAR(255), datetime DATETIME, location VARCHAR(255), FOREIGN KEY (user_id) REFERENCES users(user_id))\")\n",
    "c.execute(\"CREATE TABLE IF NOT EXISTS sessions (id INTEGER PRIMARY KEY, ip VARCHAR(255), device VARCHAR(255),total_time VARCHAR(255), start_time DATETIME, end_time DATETIME)\")\n",
    "   "
   ]
  },
  {
   "cell_type": "code",
   "execution_count": 11,
   "metadata": {},
   "outputs": [],
   "source": [
    "sql = '''INSERT INTO users (name, email, phone, location, registered_on) VALUES (?, ?, ?, ?, ?)'''\n",
    "values = (\"suhail\",\"suhail@lawyantra.com\",\"787878787\",\"Mumbai\", datetime.now())\n",
    "c.execute(sql, values)\n",
    "mydb.commit()\n"
   ]
  },
  {
   "cell_type": "code",
   "execution_count": 13,
   "metadata": {},
   "outputs": [],
   "source": [
    "sql = '''INSERT INTO queries (user_id, query, ip, datetime, location) VALUES (?, ?, ?, ?, ?)'''\n",
    "values = (\"2\",\"war in pakisthan\",\"101.10.12.12\", datetime.now(),\"Mumbai\")\n",
    "c.execute(sql, values)\n",
    "mydb.commit()\n"
   ]
  },
  {
   "cell_type": "code",
   "execution_count": null,
   "metadata": {},
   "outputs": [],
   "source": []
  }
 ],
 "metadata": {
  "kernelspec": {
   "display_name": "base",
   "language": "python",
   "name": "python3"
  },
  "language_info": {
   "codemirror_mode": {
    "name": "ipython",
    "version": 3
   },
   "file_extension": ".py",
   "mimetype": "text/x-python",
   "name": "python",
   "nbconvert_exporter": "python",
   "pygments_lexer": "ipython3",
   "version": "3.11.7"
  }
 },
 "nbformat": 4,
 "nbformat_minor": 2
}
